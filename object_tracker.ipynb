{
 "cells": [
  {
   "cell_type": "code",
   "execution_count": 1,
   "metadata": {},
   "outputs": [],
   "source": [
    "import cv2"
   ]
  },
  {
   "cell_type": "code",
   "execution_count": 2,
   "metadata": {},
   "outputs": [],
   "source": [
    "import numpy as np"
   ]
  },
  {
   "cell_type": "code",
   "execution_count": null,
   "metadata": {},
   "outputs": [],
   "source": [
    "cap = cv2.VideoCapture(0)\n",
    "\n",
    "lower_black = np.array([75,50,90])\n",
    "upper_black = np.array([135,255,255])\n",
    "\n",
    "points = []\n",
    "\n",
    "ret,frame = cap.read()\n",
    "Height, Width = frame.shape[:2]\n",
    "frame_count = 0\n",
    "\n",
    "while True:\n",
    "        ret,frame = cap.read()\n",
    "        hsv_img = cv2.cvtColor(frame, cv2.COLOR_BGR2HSV)\n",
    "        \n",
    "        mask = cv2.inRange(hsv_img, lower_black, upper_black)\n",
    "        contours,_ =  cv2.findContours(mask.copy(), cv2.RETR_EXTERNAL, cv2.CHAIN_APPROX_SIMPLE)\n",
    "        \n",
    "        center = int(Height/2), int(Width/2)\n",
    "        \n",
    "        if len(contours) > 0:\n",
    "            c = max(contours, key = cv2.contourArea)\n",
    "            (x,y), radius = cv2.minEnclosingCircle(c)\n",
    "            M = cv2.moments(c)\n",
    "            try:\n",
    "                center = (int(M[\"m10\"] / M[\"m00\"]) , int(M[\"m01\"] / M[\"m00\"]))\n",
    "            except:\n",
    "                center = int(Height/2) , int(Width/2)\n",
    "            \n",
    "            if radius > 25:\n",
    "                \n",
    "                cv2.circle(frame, (int(x), int(y)), int(radius) , (0,0,255), 2)\n",
    "                cv2.circle(frame, center, 5, (0,255,0), -1)\n",
    "                \n",
    "        points.append(center)\n",
    "        \n",
    "        if radius > 25:\n",
    "            for i in range(1, len(points)):\n",
    "                try:\n",
    "                    cv2.line(frame, points[i, -1], points[i], (0,255,0), 2)\n",
    "                    \n",
    "                except:\n",
    "                    pass\n",
    "                \n",
    "            frame_count = 0\n",
    "        else:\n",
    "            \n",
    "            frame_count +=1\n",
    "            \n",
    "            if frame_count == 10:\n",
    "                points = []\n",
    "                frame_count = 0\n",
    "        \n",
    "        frame = cv2.flip(frame,1)\n",
    "        cv2.imshow(\"Object Tracker\", frame)\n",
    "        \n",
    "        if cv2.waitKey(1) == 13:\n",
    "            break\n",
    "\n",
    "cap.release()\n",
    "cv2.destroyAllWindows()\n",
    "\n",
    "    \n",
    "            \n",
    "            "
   ]
  },
  {
   "cell_type": "code",
   "execution_count": null,
   "metadata": {},
   "outputs": [],
   "source": []
  },
  {
   "cell_type": "code",
   "execution_count": null,
   "metadata": {},
   "outputs": [],
   "source": []
  },
  {
   "cell_type": "code",
   "execution_count": null,
   "metadata": {},
   "outputs": [],
   "source": []
  }
 ],
 "metadata": {
  "kernelspec": {
   "display_name": "Python 3",
   "language": "python",
   "name": "python3"
  },
  "language_info": {
   "codemirror_mode": {
    "name": "ipython",
    "version": 3
   },
   "file_extension": ".py",
   "mimetype": "text/x-python",
   "name": "python",
   "nbconvert_exporter": "python",
   "pygments_lexer": "ipython3",
   "version": "3.7.0"
  }
 },
 "nbformat": 4,
 "nbformat_minor": 2
}
